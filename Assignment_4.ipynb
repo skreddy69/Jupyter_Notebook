{
 "cells": [
  {
   "cell_type": "markdown",
   "id": "d3b900df",
   "metadata": {},
   "source": [
    "# 1.Create a 2D array of 3x4 from number 12 to 24 and fetch. (a)=16, (b)=19, (c)=14."
   ]
  },
  {
   "cell_type": "code",
   "execution_count": 4,
   "id": "f397cf6f",
   "metadata": {},
   "outputs": [
    {
     "name": "stdout",
     "output_type": "stream",
     "text": [
      "[[12 13 14 15]\n",
      " [16 17 18 19]\n",
      " [20 21 22 23]]\n",
      "16\n",
      "19\n",
      "14\n"
     ]
    }
   ],
   "source": [
    "import numpy as np\n",
    "arr = np.arange(12, 24).reshape(3, 4)\n",
    "\n",
    "a = arr[1, 0] \n",
    "b = arr[1, 3]\n",
    "c = arr[0, 2] \n",
    "\n",
    "print(arr)\n",
    "\n",
    "print(a)\n",
    "print(b)\n",
    "print(c)"
   ]
  },
  {
   "cell_type": "markdown",
   "id": "238095a9",
   "metadata": {},
   "source": [
    "# 2. Create a 3D array for first 24 whole number of size 2x3x4 and fetch . (a)=16,(b)=4,(c)=0."
   ]
  },
  {
   "cell_type": "code",
   "execution_count": 7,
   "id": "d898ff2f",
   "metadata": {},
   "outputs": [
    {
     "name": "stdout",
     "output_type": "stream",
     "text": [
      "[[[ 0  1  2  3]\n",
      "  [ 4  5  6  7]\n",
      "  [ 8  9 10 11]]\n",
      "\n",
      " [[12 13 14 15]\n",
      "  [16 17 18 19]\n",
      "  [20 21 22 23]]]\n",
      "16\n",
      "4\n",
      "0\n"
     ]
    }
   ],
   "source": [
    "import numpy as np\n",
    "arr= np.arange(24).reshape(2, 3, 4)\n",
    "\n",
    "a = arr[1, 1, 0]  \n",
    "b = arr[0, 1, 0]  \n",
    "c = arr[0, 0, 0] \n",
    "\n",
    "print(arr)\n",
    "\n",
    "print(a)\n",
    "print(b)\n",
    "print(c)"
   ]
  },
  {
   "cell_type": "markdown",
   "id": "b53df353",
   "metadata": {},
   "source": [
    "# 3.Create table of 5 and fetch all elements divisble by using condition based on indexing."
   ]
  },
  {
   "cell_type": "code",
   "execution_count": 8,
   "id": "35d5218c",
   "metadata": {},
   "outputs": [
    {
     "name": "stdout",
     "output_type": "stream",
     "text": [
      "[  5  10  15  20  25  30  35  40  45  50  55  60  65  70  75  80  85  90\n",
      "  95 100]\n",
      "[ 20  40  60  80 100]\n"
     ]
    }
   ],
   "source": [
    "import numpy as np\n",
    "arr = np.arange(1, 21) * 5\n",
    "arr1 = arr[arr % 4 == 0]\n",
    "\n",
    "print(arr)\n",
    "print(arr1)"
   ]
  },
  {
   "cell_type": "markdown",
   "id": "6d5d6ebf",
   "metadata": {},
   "source": [
    "# 4.Out of first 20 natural number find all number greater than 5 but less than 12."
   ]
  },
  {
   "cell_type": "code",
   "execution_count": 9,
   "id": "c950d3fe",
   "metadata": {},
   "outputs": [
    {
     "name": "stdout",
     "output_type": "stream",
     "text": [
      "[ 1  2  3  4  5  6  7  8  9 10 11 12 13 14 15 16 17 18 19 20]\n",
      "[ 6  7  8  9 10 11]\n"
     ]
    }
   ],
   "source": [
    "import numpy as np\n",
    "arr = np.arange(1, 21)\n",
    "\n",
    "arr1 = arr[( arr> 5) & (arr < 12)]\n",
    "\n",
    "print(arr)\n",
    "print(arr1)"
   ]
  },
  {
   "cell_type": "markdown",
   "id": "dd0b2172",
   "metadata": {},
   "source": [
    "# 5.Make an array of table of 5 and fetch all number which all divible by 3 and are also divisible by 4."
   ]
  },
  {
   "cell_type": "code",
   "execution_count": 10,
   "id": "1d11ffcc",
   "metadata": {},
   "outputs": [
    {
     "name": "stdout",
     "output_type": "stream",
     "text": [
      "[  5  10  15  20  25  30  35  40  45  50  55  60  65  70  75  80  85  90\n",
      "  95 100]\n",
      "[60]\n"
     ]
    }
   ],
   "source": [
    "import numpy as np\n",
    "arr= np.arange(1, 21) * 5\n",
    "\n",
    "arr1= arr[(arr % 3 == 0) & (arr % 4 == 0)]\n",
    "\n",
    "print(arr)\n",
    "print(arr1)"
   ]
  },
  {
   "cell_type": "code",
   "execution_count": null,
   "id": "58d9fca4",
   "metadata": {},
   "outputs": [],
   "source": [
    "#6.Create any 3D array and use nditer toget its element one by one."
   ]
  },
  {
   "cell_type": "code",
   "execution_count": 12,
   "id": "2a7ecf1c",
   "metadata": {},
   "outputs": [
    {
     "name": "stdout",
     "output_type": "stream",
     "text": [
      "Element at index (0, 0, 0): 0\n",
      "Element at index (0, 0, 1): 1\n",
      "Element at index (0, 0, 2): 2\n",
      "Element at index (0, 0, 3): 3\n",
      "Element at index (0, 1, 0): 4\n",
      "Element at index (0, 1, 1): 5\n",
      "Element at index (0, 1, 2): 6\n",
      "Element at index (0, 1, 3): 7\n",
      "Element at index (0, 2, 0): 8\n",
      "Element at index (0, 2, 1): 9\n",
      "Element at index (0, 2, 2): 10\n",
      "Element at index (0, 2, 3): 11\n",
      "Element at index (1, 0, 0): 12\n",
      "Element at index (1, 0, 1): 13\n",
      "Element at index (1, 0, 2): 14\n",
      "Element at index (1, 0, 3): 15\n",
      "Element at index (1, 1, 0): 16\n",
      "Element at index (1, 1, 1): 17\n",
      "Element at index (1, 1, 2): 18\n",
      "Element at index (1, 1, 3): 19\n",
      "Element at index (1, 2, 0): 20\n",
      "Element at index (1, 2, 1): 21\n",
      "Element at index (1, 2, 2): 22\n",
      "Element at index (1, 2, 3): 23\n"
     ]
    }
   ],
   "source": [
    "import numpy as np\n",
    "\n",
    "array = np.arange(24).reshape(2, 3, 4)\n",
    "\n",
    "# Iterate over the elements of the 3D array using nditer\n",
    "it = np.nditer(array, flags=['multi_index'])\n",
    "\n",
    "while not it.finished:\n",
    "    print(\"Element at index {}: {}\".format(it.multi_index, it[0]))\n",
    "    it.iternext()\n"
   ]
  },
  {
   "cell_type": "markdown",
   "id": "6f3f2bc0",
   "metadata": {},
   "source": [
    "# 7.Create a 3D array of number from 1 to 24 of size 4x3 and fetch element noe by one using ndenumerate."
   ]
  },
  {
   "cell_type": "code",
   "execution_count": 19,
   "id": "aed1f211",
   "metadata": {},
   "outputs": [
    {
     "name": "stdout",
     "output_type": "stream",
     "text": [
      "Index: (0, 0, 0) Value: 1\n",
      "Index: (0, 0, 1) Value: 2\n",
      "Index: (0, 0, 2) Value: 3\n",
      "Index: (0, 1, 0) Value: 4\n",
      "Index: (0, 1, 1) Value: 5\n",
      "Index: (0, 1, 2) Value: 6\n",
      "Index: (0, 2, 0) Value: 7\n",
      "Index: (0, 2, 1) Value: 8\n",
      "Index: (0, 2, 2) Value: 9\n",
      "Index: (0, 3, 0) Value: 10\n",
      "Index: (0, 3, 1) Value: 11\n",
      "Index: (0, 3, 2) Value: 12\n",
      "Index: (1, 0, 0) Value: 13\n",
      "Index: (1, 0, 1) Value: 14\n",
      "Index: (1, 0, 2) Value: 15\n",
      "Index: (1, 1, 0) Value: 16\n",
      "Index: (1, 1, 1) Value: 17\n",
      "Index: (1, 1, 2) Value: 18\n",
      "Index: (1, 2, 0) Value: 19\n",
      "Index: (1, 2, 1) Value: 20\n",
      "Index: (1, 2, 2) Value: 21\n",
      "Index: (1, 3, 0) Value: 22\n",
      "Index: (1, 3, 1) Value: 23\n",
      "Index: (1, 3, 2) Value: 24\n"
     ]
    }
   ],
   "source": [
    "import numpy as np\n",
    "array= np.arange(1, 25).reshape(2,4,3)\n",
    "\n",
    "# Fetch elements one by one using ndenumerate\n",
    "for index, value in np.ndenumerate(array):\n",
    "    print(\"Index:\", index, \"Value:\", value)"
   ]
  },
  {
   "cell_type": "code",
   "execution_count": null,
   "id": "4aa40414",
   "metadata": {},
   "outputs": [],
   "source": []
  }
 ],
 "metadata": {
  "kernelspec": {
   "display_name": "Python 3 (ipykernel)",
   "language": "python",
   "name": "python3"
  },
  "language_info": {
   "codemirror_mode": {
    "name": "ipython",
    "version": 3
   },
   "file_extension": ".py",
   "mimetype": "text/x-python",
   "name": "python",
   "nbconvert_exporter": "python",
   "pygments_lexer": "ipython3",
   "version": "3.11.5"
  }
 },
 "nbformat": 4,
 "nbformat_minor": 5
}

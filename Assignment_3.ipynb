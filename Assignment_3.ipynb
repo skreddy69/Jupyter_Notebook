{
 "cells": [
  {
   "cell_type": "markdown",
   "id": "bfdecd3d",
   "metadata": {},
   "source": [
    "# 1.Create a 3D array of size (3x4)X2 means 2 two dimension array each of 3X4 and it must have element from 1 to 24 fetch  the following using index (a)=17,(b)=3,(c)=19,(d)=24. "
   ]
  },
  {
   "cell_type": "code",
   "execution_count": 13,
   "id": "5631aeb3",
   "metadata": {},
   "outputs": [
    {
     "name": "stdout",
     "output_type": "stream",
     "text": [
      "[[[ 1  2  3  4]\n",
      "  [ 5  6  7  8]\n",
      "  [ 9 10 11 12]]\n",
      "\n",
      " [[13 14 15 16]\n",
      "  [17 18 19 20]\n",
      "  [21 22 23 24]]]\n",
      "17\n",
      "3\n",
      "19\n",
      "24\n"
     ]
    }
   ],
   "source": [
    "import numpy as np\n",
    "arr = np.arange(1,25).reshape(2, 3, 4)\n",
    "\n",
    "\n",
    "a = arr[1,1,0]  \n",
    "b = arr[0,0,2]\n",
    "c = arr[1,1,2]\n",
    "d = arr[1,2,3]\n",
    "\n",
    "print(arr)\n",
    "print(a)\n",
    "print(b)\n",
    "print(c)\n",
    "print(d)"
   ]
  },
  {
   "cell_type": "markdown",
   "id": "0d4445ba",
   "metadata": {},
   "source": [
    "# 2.Create a 3D array of size (3x4)X2 means 2 two dimension array each of 3X4 and it must have element from 1 to 24 fetch  the following using slicing (a)=5,6,7,(b)=9,19,(c)=21,22."
   ]
  },
  {
   "cell_type": "code",
   "execution_count": 60,
   "id": "6d57ddc2",
   "metadata": {},
   "outputs": [
    {
     "name": "stdout",
     "output_type": "stream",
     "text": [
      "[[[ 1  2  3  4]\n",
      "  [ 5  6  7  8]\n",
      "  [ 9 10 11 12]]\n",
      "\n",
      " [[13 14 15 16]\n",
      "  [17 18 19 20]\n",
      "  [21 22 23 24]]]\n",
      "[5 6 7]\n",
      "[9]\n",
      "[19]\n",
      "[21 22]\n"
     ]
    }
   ],
   "source": [
    "import numpy as np\n",
    "arr = np.arange(1,25).reshape(2, 3, 4)\n",
    "a = arr[0,1,0:3]  \n",
    "b = arr[0,2,0:1]  \n",
    "c = arr[1,1,2:3] \n",
    "d =arr[1,2,0:2]\n",
    "print(arr)\n",
    "\n",
    "print(a)\n",
    "print(b)\n",
    "print(c)\n",
    "print(d)"
   ]
  },
  {
   "cell_type": "markdown",
   "id": "3f61959a",
   "metadata": {},
   "source": [
    "# 3.Create a 1D array of table of 5 and fetch all the element which are divisible by 4 using advance indexing."
   ]
  },
  {
   "cell_type": "code",
   "execution_count": 63,
   "id": "a5444640",
   "metadata": {},
   "outputs": [
    {
     "name": "stdout",
     "output_type": "stream",
     "text": [
      "[  5  10  15  20  25  30  35  40  45  50  55  60  65  70  75  80  85  90\n",
      "  95 100]\n",
      "[ 20  40  60  80 100]\n"
     ]
    }
   ],
   "source": [
    "import numpy as np\n",
    "arr = np.arange(1, 21) * 5\n",
    "arr1=arr[arr % 4 == 0]\n",
    "print(arr)\n",
    "print(arr1)"
   ]
  },
  {
   "cell_type": "markdown",
   "id": "5f32324f",
   "metadata": {},
   "source": [
    "# 4.Create 2D array from number 1-12 and fetch using advance indexing.(a)=12,(b)=7,(c)=3,(d)=9."
   ]
  },
  {
   "cell_type": "code",
   "execution_count": 2,
   "id": "10745e0c",
   "metadata": {},
   "outputs": [
    {
     "name": "stdout",
     "output_type": "stream",
     "text": [
      "[[ 1  2  3  4]\n",
      " [ 5  6  7  8]\n",
      " [ 9 10 11 12]]\n",
      "12\n",
      "7\n",
      "3\n",
      "9\n"
     ]
    }
   ],
   "source": [
    "import numpy as np\n",
    "arr = np.arange(1, 13).reshape(3, 4)\n",
    "\n",
    "a = arr[2, 3]  \n",
    "b = arr[1, 2] \n",
    "c = arr[0, 2]  \n",
    "d = arr[2, 0]  \n",
    "\n",
    "print(arr)\n",
    "\n",
    "print(a)\n",
    "print(b)\n",
    "print(c)\n",
    "print(d)"
   ]
  },
  {
   "cell_type": "code",
   "execution_count": null,
   "id": "805d60d4",
   "metadata": {},
   "outputs": [],
   "source": []
  }
 ],
 "metadata": {
  "kernelspec": {
   "display_name": "Python 3 (ipykernel)",
   "language": "python",
   "name": "python3"
  },
  "language_info": {
   "codemirror_mode": {
    "name": "ipython",
    "version": 3
   },
   "file_extension": ".py",
   "mimetype": "text/x-python",
   "name": "python",
   "nbconvert_exporter": "python",
   "pygments_lexer": "ipython3",
   "version": "3.11.5"
  }
 },
 "nbformat": 4,
 "nbformat_minor": 5
}

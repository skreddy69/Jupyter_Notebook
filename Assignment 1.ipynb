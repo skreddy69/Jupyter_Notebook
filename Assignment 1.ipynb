{
 "cells": [
  {
   "cell_type": "markdown",
   "id": "597ad887",
   "metadata": {},
   "source": [
    "# 1. Create a 2D array of 3x5 using any number with (array function).\n"
   ]
  },
  {
   "cell_type": "code",
   "execution_count": 1,
   "id": "7686a792",
   "metadata": {},
   "outputs": [
    {
     "name": "stdout",
     "output_type": "stream",
     "text": [
      "[[ 1  2  3  4  5]\n",
      " [ 6  7  8  9 10]\n",
      " [11 12 13 14 15]]\n"
     ]
    }
   ],
   "source": [
    "import numpy as np\n",
    "arr = np.array([[1, 2, 3, 4, 5],[6, 7, 8, 9, 10],[11, 12, 13, 14, 15]])\n",
    "\n",
    "print(arr)\n"
   ]
  },
  {
   "cell_type": "markdown",
   "id": "8188e8ee",
   "metadata": {},
   "source": [
    "# 2. Create array of first 20 whole number using arange."
   ]
  },
  {
   "cell_type": "code",
   "execution_count": 2,
   "id": "8f043f99",
   "metadata": {},
   "outputs": [
    {
     "name": "stdout",
     "output_type": "stream",
     "text": [
      "[ 1  2  3  4  5  6  7  8  9 10 11 12 13 14 15 16 17 18 19 20]\n"
     ]
    }
   ],
   "source": [
    "import numpy as np\n",
    "wn = np.arange(1, 21)\n",
    "\n",
    "print(wn)"
   ]
  },
  {
   "cell_type": "markdown",
   "id": "092c428c",
   "metadata": {},
   "source": [
    "# 3.Use linspace function to get 12 linerly spaced value between 10 and 50 all values should be in integers."
   ]
  },
  {
   "cell_type": "code",
   "execution_count": 4,
   "id": "62a7263e",
   "metadata": {},
   "outputs": [
    {
     "name": "stdout",
     "output_type": "stream",
     "text": [
      "[10 13 17 20 24 28 31 35 39 42 46 50]\n"
     ]
    }
   ],
   "source": [
    "import numpy as np\n",
    "arr=np.linspace(10,50,12,dtype='int')\n",
    "print(arr)"
   ]
  },
  {
   "cell_type": "markdown",
   "id": "6233364b",
   "metadata": {},
   "source": [
    "# 4.Create a 4Dim array each must contain 2 3 dim array each 3D array contain    4 two dim array of 3X4 they all must be filled  the number 5 "
   ]
  },
  {
   "cell_type": "code",
   "execution_count": 9,
   "id": "13b8cab0",
   "metadata": {},
   "outputs": [
    {
     "name": "stdout",
     "output_type": "stream",
     "text": [
      "[[[[5 5 5]\n",
      "   [5 5 5]]\n",
      "\n",
      "  [[5 5 5]\n",
      "   [5 5 5]]\n",
      "\n",
      "  [[5 5 5]\n",
      "   [5 5 5]]]\n",
      "\n",
      "\n",
      " [[[5 5 5]\n",
      "   [5 5 5]]\n",
      "\n",
      "  [[5 5 5]\n",
      "   [5 5 5]]\n",
      "\n",
      "  [[5 5 5]\n",
      "   [5 5 5]]]\n",
      "\n",
      "\n",
      " [[[5 5 5]\n",
      "   [5 5 5]]\n",
      "\n",
      "  [[5 5 5]\n",
      "   [5 5 5]]\n",
      "\n",
      "  [[5 5 5]\n",
      "   [5 5 5]]]\n",
      "\n",
      "\n",
      " [[[5 5 5]\n",
      "   [5 5 5]]\n",
      "\n",
      "  [[5 5 5]\n",
      "   [5 5 5]]\n",
      "\n",
      "  [[5 5 5]\n",
      "   [5 5 5]]]]\n"
     ]
    }
   ],
   "source": [
    "import numpy as np\n",
    "arr=np.full((4,3,2,3),5)\n",
    "print(arr)"
   ]
  },
  {
   "cell_type": "markdown",
   "id": "3d4b30ad",
   "metadata": {},
   "source": [
    "# 5.Create an identity matrix of 5x5 with complex data type."
   ]
  },
  {
   "cell_type": "code",
   "execution_count": 22,
   "id": "c014a68e",
   "metadata": {},
   "outputs": [
    {
     "name": "stdout",
     "output_type": "stream",
     "text": [
      "[[1.+0.j 0.+0.j 0.+0.j 0.+0.j 0.+0.j]\n",
      " [0.+0.j 1.+0.j 0.+0.j 0.+0.j 0.+0.j]\n",
      " [0.+0.j 0.+0.j 1.+0.j 0.+0.j 0.+0.j]\n",
      " [0.+0.j 0.+0.j 0.+0.j 1.+0.j 0.+0.j]\n",
      " [0.+0.j 0.+0.j 0.+0.j 0.+0.j 1.+0.j]]\n"
     ]
    }
   ],
   "source": [
    "import numpy as np\n",
    "matrix = np.identity(5, dtype=complex)\n",
    "print(matrix)"
   ]
  },
  {
   "cell_type": "markdown",
   "id": "f23e4865",
   "metadata": {},
   "source": [
    "# 6. Create an identity matrix using eye function we k=2 and datatype must be in int."
   ]
  },
  {
   "cell_type": "code",
   "execution_count": 25,
   "id": "6004dee5",
   "metadata": {},
   "outputs": [
    {
     "name": "stdout",
     "output_type": "stream",
     "text": [
      "[[0 0 1 0 0]\n",
      " [0 0 0 1 0]\n",
      " [0 0 0 0 1]\n",
      " [0 0 0 0 0]\n",
      " [0 0 0 0 0]]\n"
     ]
    }
   ],
   "source": [
    "import numpy as np\n",
    "matrix = np.eye(5, k=2, dtype=int)\n",
    "print(matrix)"
   ]
  },
  {
   "cell_type": "markdown",
   "id": "74f986e2",
   "metadata": {},
   "source": [
    "# 7.write code to extract k=-1 diagonal from 2D matric array."
   ]
  },
  {
   "cell_type": "code",
   "execution_count": 26,
   "id": "866ab702",
   "metadata": {},
   "outputs": [
    {
     "name": "stdout",
     "output_type": "stream",
     "text": [
      "[[10 40 50 60]\n",
      " [20 40 60 30]\n",
      " [10 30 40 60]]\n",
      "[20 30]\n"
     ]
    }
   ],
   "source": [
    "import numpy as np \n",
    "arr=np.array([[10,40,50,60],[20,40,60,30],[10,30,40,60]])\n",
    "arr2=np.diag(arr,-1)\n",
    "print(arr)\n",
    "print(arr2)"
   ]
  },
  {
   "cell_type": "markdown",
   "id": "30a46712",
   "metadata": {},
   "source": [
    "# 8.Create an array 3x4 using empty function."
   ]
  },
  {
   "cell_type": "code",
   "execution_count": 32,
   "id": "f6ce98fd",
   "metadata": {},
   "outputs": [
    {
     "name": "stdout",
     "output_type": "stream",
     "text": [
      "[[1.0609979e-313 1.0609979e-313 1.0609979e-313 1.0609979e-313]\n",
      " [1.0609979e-313 1.0609979e-313 1.0609979e-313 1.0609979e-313]\n",
      " [1.0609979e-313 1.0609979e-313 1.0609979e-313 1.0609979e-313]]\n"
     ]
    }
   ],
   "source": [
    "import numpy as np\n",
    "empty_array = np.empty((3, 4))\n",
    "print(empty_array)"
   ]
  },
  {
   "cell_type": "markdown",
   "id": "740ccc99",
   "metadata": {},
   "source": [
    "# 9.Create 2D array 3x4using random number from 10 to 20(20 is inclusive)"
   ]
  },
  {
   "cell_type": "code",
   "execution_count": 33,
   "id": "e61d43bd",
   "metadata": {},
   "outputs": [
    {
     "name": "stdout",
     "output_type": "stream",
     "text": [
      "[[20 19 15 19]\n",
      " [13 14 17 20]\n",
      " [20 16 18 20]]\n"
     ]
    }
   ],
   "source": [
    "import numpy as np\n",
    "random_array = np.random.randint(10, 21, size=(3, 4))\n",
    "print(random_array)"
   ]
  },
  {
   "cell_type": "markdown",
   "id": "8f94f61a",
   "metadata": {},
   "source": [
    "# 10.Create a 3D array of random number from 0 to 100 size is 5x6 and there must be 4 2D array."
   ]
  },
  {
   "cell_type": "code",
   "execution_count": 34,
   "id": "d8752b21",
   "metadata": {},
   "outputs": [
    {
     "name": "stdout",
     "output_type": "stream",
     "text": [
      "[[[ 92  96  34  81  20  87]\n",
      "  [ 42  34  24  63  68  80]\n",
      "  [ 94  30  66  10  20  41]\n",
      "  [ 36  70  10  35  31  54]\n",
      "  [ 50  31  94  99  81  52]]\n",
      "\n",
      " [[ 92  97  10  48  94  80]\n",
      "  [  2  75  78  44   5  95]\n",
      "  [ 10  11  10  71  46  30]\n",
      "  [ 54  59  77  87   6  16]\n",
      "  [ 47  74  64  96  45  77]]\n",
      "\n",
      " [[100  81  93  14  74  83]\n",
      "  [ 71  26 100  37   3  51]\n",
      "  [  8  25  14  35  45  98]\n",
      "  [ 33  12   8   6  75  12]\n",
      "  [ 72   9  76   4   8  55]]\n",
      "\n",
      " [[ 74  11  36  88  68  10]\n",
      "  [ 88  16  64  18  75  87]\n",
      "  [ 13  14  63  69  84  42]\n",
      "  [ 64   3  92  83  21  83]\n",
      "  [ 46  90   5  38   3  88]]]\n"
     ]
    }
   ],
   "source": [
    "import numpy as pd\n",
    "arr = np.random.randint(0, 101, size=(4, 5, 6))\n",
    "print(arr)"
   ]
  },
  {
   "cell_type": "code",
   "execution_count": null,
   "id": "5ecf0b5a",
   "metadata": {},
   "outputs": [],
   "source": []
  }
 ],
 "metadata": {
  "kernelspec": {
   "display_name": "Python 3 (ipykernel)",
   "language": "python",
   "name": "python3"
  },
  "language_info": {
   "codemirror_mode": {
    "name": "ipython",
    "version": 3
   },
   "file_extension": ".py",
   "mimetype": "text/x-python",
   "name": "python",
   "nbconvert_exporter": "python",
   "pygments_lexer": "ipython3",
   "version": "3.11.5"
  }
 },
 "nbformat": 4,
 "nbformat_minor": 5
}

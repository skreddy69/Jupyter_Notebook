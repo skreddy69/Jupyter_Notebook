{
 "cells": [
  {
   "cell_type": "markdown",
   "id": "b4f62532",
   "metadata": {},
   "source": [
    "# 1.Create a 3D array of number 1 to 24 of size 2x4x3 and flatten it."
   ]
  },
  {
   "cell_type": "code",
   "execution_count": 2,
   "id": "31d005a9",
   "metadata": {},
   "outputs": [
    {
     "name": "stdout",
     "output_type": "stream",
     "text": [
      "[[[ 1  2  3]\n",
      "  [ 4  5  6]\n",
      "  [ 7  8  9]\n",
      "  [10 11 12]]\n",
      "\n",
      " [[13 14 15]\n",
      "  [16 17 18]\n",
      "  [19 20 21]\n",
      "  [22 23 24]]]\n",
      "\n",
      "[ 1  2  3  4  5  6  7  8  9 10 11 12 13 14 15 16 17 18 19 20 21 22 23 24]\n"
     ]
    }
   ],
   "source": [
    "import numpy as np\n",
    "arr= np.arange(1, 25).reshape(2, 4, 3)\n",
    "\n",
    "# Flatten the 3D array\n",
    "arr1 = arr.flatten()\n",
    "\n",
    "\n",
    "print(arr)\n",
    "print()\n",
    "print(arr1)\n"
   ]
  },
  {
   "cell_type": "markdown",
   "id": "fb45b09f",
   "metadata": {},
   "source": [
    "# 2.Demonstrate the difference between flatten and ravel using a suitable example."
   ]
  },
  {
   "cell_type": "code",
   "execution_count": 4,
   "id": "2b718d94",
   "metadata": {},
   "outputs": [
    {
     "name": "stdout",
     "output_type": "stream",
     "text": [
      "Original 2D array:\n",
      "[[200   2   3]\n",
      " [  4   5   6]]\n",
      "\n",
      "Flattened array:\n",
      "[100   2   3   4   5   6]\n",
      "\n",
      "Raveled array:\n",
      "[200   2   3   4   5   6]\n"
     ]
    }
   ],
   "source": [
    "import numpy as np\n",
    "# Create a 2D array\n",
    "arr = np.array([[1, 2, 3],[4, 5, 6]])\n",
    "arr1 = arr.flatten()\n",
    "arr1[0] = 100 \n",
    "arr3 = arr.ravel()\n",
    "arr3[0] = 200  \n",
    "\n",
    "print(\"Original 2D array:\")\n",
    "print(arr)\n",
    "\n",
    "print(\"\\nFlattened array:\")\n",
    "print(arr1)\n",
    "\n",
    "print(\"\\nRaveled array:\")\n",
    "print(arr3)"
   ]
  },
  {
   "cell_type": "markdown",
   "id": "22cba060",
   "metadata": {},
   "source": [
    "# 3.Create a 2D array and find its transpose."
   ]
  },
  {
   "cell_type": "code",
   "execution_count": 5,
   "id": "c81a57aa",
   "metadata": {},
   "outputs": [
    {
     "name": "stdout",
     "output_type": "stream",
     "text": [
      "Original 2D array:\n",
      "[[1 2 3]\n",
      " [4 5 6]]\n",
      "\n",
      "Transpose of the array:\n",
      "[[1 4]\n",
      " [2 5]\n",
      " [3 6]]\n"
     ]
    }
   ],
   "source": [
    "import numpy as np\n",
    "arr = np.array([[1, 2, 3],[4, 5, 6]])\n",
    "\n",
    "arr1 = np.transpose(arr)\n",
    "\n",
    "print(\"Original 2D array:\")\n",
    "print(arr)\n",
    "\n",
    "print(\"\\nTranspose of the array:\")\n",
    "print(arr1)"
   ]
  },
  {
   "cell_type": "markdown",
   "id": "67e6403f",
   "metadata": {},
   "source": [
    "# 4.Create a 3D array and transpose it on axes(2,0,1)."
   ]
  },
  {
   "cell_type": "code",
   "execution_count": 6,
   "id": "2811a4fa",
   "metadata": {},
   "outputs": [
    {
     "name": "stdout",
     "output_type": "stream",
     "text": [
      "[[[ 1  2  3  4]\n",
      "  [ 5  6  7  8]\n",
      "  [ 9 10 11 12]]\n",
      "\n",
      " [[13 14 15 16]\n",
      "  [17 18 19 20]\n",
      "  [21 22 23 24]]]\n",
      "\n",
      "[[[ 1  5  9]\n",
      "  [13 17 21]]\n",
      "\n",
      " [[ 2  6 10]\n",
      "  [14 18 22]]\n",
      "\n",
      " [[ 3  7 11]\n",
      "  [15 19 23]]\n",
      "\n",
      " [[ 4  8 12]\n",
      "  [16 20 24]]]\n"
     ]
    }
   ],
   "source": [
    "import numpy as np\n",
    "arr = np.arange(1,25).reshape(2,3,4)\n",
    "arr1=np.transpose(arr,axes=(2,0,1)) \n",
    "\n",
    "print(arr)\n",
    "print()\n",
    "print(arr1)"
   ]
  },
  {
   "cell_type": "markdown",
   "id": "45884dfd",
   "metadata": {},
   "source": [
    "# 5.Create a 4D array and use swapaxes to swap 2 and 4 axes."
   ]
  },
  {
   "cell_type": "code",
   "execution_count": 7,
   "id": "79f6b0df",
   "metadata": {},
   "outputs": [
    {
     "name": "stdout",
     "output_type": "stream",
     "text": [
      "[[[[ 1  2]\n",
      "   [ 3  4]]\n",
      "\n",
      "  [[ 5  6]\n",
      "   [ 7  8]]]\n",
      "\n",
      "\n",
      " [[[ 9 10]\n",
      "   [11 12]]\n",
      "\n",
      "  [[13 14]\n",
      "   [15 16]]]]\n",
      "\n",
      "[[[[ 1  5]\n",
      "   [ 3  7]]\n",
      "\n",
      "  [[ 2  6]\n",
      "   [ 4  8]]]\n",
      "\n",
      "\n",
      " [[[ 9 13]\n",
      "   [11 15]]\n",
      "\n",
      "  [[10 14]\n",
      "   [12 16]]]]\n"
     ]
    }
   ],
   "source": [
    "import numpy as np\n",
    "arr= np.array([[[[1, 2], [3, 4]],[[5, 6], [7, 8]]],[[[9, 10], [11, 12]],[[13, 14],[15, 16]]]])\n",
    "\n",
    "arr1 = np.swapaxes(arr, 1, 3)\n",
    "\n",
    "print(arr)\n",
    "print()\n",
    "print(arr1)"
   ]
  },
  {
   "cell_type": "markdown",
   "id": "0ccac483",
   "metadata": {},
   "source": [
    "# 6.Demostrate the use of concetenate in array of different dimension using axes."
   ]
  },
  {
   "cell_type": "code",
   "execution_count": 10,
   "id": "a0be7a8c",
   "metadata": {},
   "outputs": [
    {
     "name": "stdout",
     "output_type": "stream",
     "text": [
      "Original 2D array:\n",
      "[[1 2]\n",
      " [3 4]]\n",
      "\n",
      "Original 1D array:\n",
      "[5 6]\n",
      "\n",
      "Concatenated in rows:\n",
      "[[1 2]\n",
      " [3 4]\n",
      " [5 6]]\n",
      "\n",
      "Concatenated in columns:\n",
      "[[1 2 5]\n",
      " [3 4 6]]\n"
     ]
    }
   ],
   "source": [
    "import numpy as np\n",
    "\n",
    "arr= np.array([[1, 2],[3, 4]])\n",
    "\n",
    "arr1 = np.array([5, 6])\n",
    "\n",
    "a= np.concatenate((arr, arr1.reshape(1, -1)), axis=0)\n",
    "\n",
    "b = np.concatenate((arr, arr1.reshape(-1, 1)), axis=1)\n",
    "\n",
    "print(\"Original 2D array:\")\n",
    "print(arr)\n",
    "\n",
    "print(\"\\nOriginal 1D array:\")\n",
    "print(arr1)\n",
    "\n",
    "print(\"\\nConcatenated in rows:\")\n",
    "print(a)\n",
    "\n",
    "print(\"\\nConcatenated in columns:\")\n",
    "print(b)"
   ]
  },
  {
   "cell_type": "markdown",
   "id": "4b8166a7",
   "metadata": {},
   "source": [
    "# 7. Demonstrate the use of stack using an example."
   ]
  },
  {
   "cell_type": "code",
   "execution_count": 9,
   "id": "91d84c92",
   "metadata": {},
   "outputs": [
    {
     "name": "stdout",
     "output_type": "stream",
     "text": [
      "\n",
      "[[75 70 80]\n",
      " [80 85 75]\n",
      " [85 75 85]\n",
      " [90 95 90]]\n"
     ]
    }
   ],
   "source": [
    "import numpy as np\n",
    "subject1 = np.array([75, 80, 85, 90])\n",
    "subject2 = np.array([70, 85, 75, 95])\n",
    "subject3 = np.array([80, 75, 85, 90])\n",
    "\n",
    "stacked_array = np.stack((subject1, subject2, subject3), axis=1)\n",
    "\n",
    "print()\n",
    "print(stacked_array)"
   ]
  },
  {
   "cell_type": "code",
   "execution_count": null,
   "id": "0a818780",
   "metadata": {},
   "outputs": [],
   "source": []
  }
 ],
 "metadata": {
  "kernelspec": {
   "display_name": "Python 3 (ipykernel)",
   "language": "python",
   "name": "python3"
  },
  "language_info": {
   "codemirror_mode": {
    "name": "ipython",
    "version": 3
   },
   "file_extension": ".py",
   "mimetype": "text/x-python",
   "name": "python",
   "nbconvert_exporter": "python",
   "pygments_lexer": "ipython3",
   "version": "3.11.5"
  }
 },
 "nbformat": 4,
 "nbformat_minor": 5
}

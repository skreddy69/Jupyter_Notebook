{
 "cells": [
  {
   "cell_type": "markdown",
   "id": "cda991a2",
   "metadata": {},
   "source": [
    "# 1.Create an array of random integer from 30 to 40 .it must be a 2D arrayof size 3x4."
   ]
  },
  {
   "cell_type": "code",
   "execution_count": 2,
   "id": "2c1f6e39",
   "metadata": {},
   "outputs": [
    {
     "name": "stdout",
     "output_type": "stream",
     "text": [
      "[[37 37 33 37]\n",
      " [39 33 36 35]\n",
      " [31 30 37 31]]\n"
     ]
    }
   ],
   "source": [
    "import numpy as np\n",
    "arr=np.random.randint(30,40,(3,4))\n",
    "print(arr)"
   ]
  },
  {
   "cell_type": "markdown",
   "id": "b5a34d84",
   "metadata": {},
   "source": [
    "# 2.Write  the code to get randomm number fromm 1 to 6 and their probbility must be unifrom distributed, also it must be an array of size 2x4."
   ]
  },
  {
   "cell_type": "code",
   "execution_count": 17,
   "id": "7e66c537",
   "metadata": {},
   "outputs": [
    {
     "name": "stdout",
     "output_type": "stream",
     "text": [
      "[[5.79321382 2.59041402 4.31295452 4.62208003]\n",
      " [3.81589406 4.13742696 3.96267462 3.82574049]]\n"
     ]
    }
   ],
   "source": [
    "import numpy as np\n",
    "arr = np.random.uniform(1, 7, (2, 4))\n",
    "print(arr)"
   ]
  },
  {
   "cell_type": "markdown",
   "id": "72a28a3c",
   "metadata": {},
   "source": [
    "# 3. Write a code to get random number close to 5 with varance 2, and get 50 random number."
   ]
  },
  {
   "cell_type": "code",
   "execution_count": 18,
   "id": "98b18044",
   "metadata": {},
   "outputs": [
    {
     "name": "stdout",
     "output_type": "stream",
     "text": [
      "[6.66612146 3.02897743 4.8824762  1.45256388 2.58616318 5.58181695\n",
      " 5.67666078 6.35457492 6.30220419 7.24643063 5.97006759 5.3979125\n",
      " 5.42579682 5.65374787 3.96049546 6.29434624 7.62615521 3.96275104\n",
      " 8.20288441 6.07930139 5.54702877 6.79713014 4.39208388 6.29531435\n",
      " 5.58290015 3.78456891 6.43126358 6.71844498 5.16750719 3.07666993\n",
      " 6.09784523 6.66376179 4.53654888 7.71978132 7.2135922  3.9136075\n",
      " 3.72623722 4.30376234 6.84155114 4.50461758 3.14173826 4.21103609\n",
      " 1.75149724 7.08485877 4.7854204  6.39807676 4.85917803 3.55798345\n",
      " 4.55637299 1.96371857]\n"
     ]
    }
   ],
   "source": [
    "import numpy as np\n",
    "num = np.random.normal(5,2,50)\n",
    "print(num)"
   ]
  },
  {
   "cell_type": "markdown",
   "id": "3c2806d4",
   "metadata": {},
   "source": [
    "# 4.Create a 3D array of random number from(0 to 10)."
   ]
  },
  {
   "cell_type": "code",
   "execution_count": 19,
   "id": "6d2e3002",
   "metadata": {},
   "outputs": [
    {
     "name": "stdout",
     "output_type": "stream",
     "text": [
      "[[[ 0  4  4  0  3]\n",
      "  [10  9  8  5  3]\n",
      "  [ 1  9 10  0  1]\n",
      "  [ 3  7  8  8  8]]\n",
      "\n",
      " [[ 3  8  8  4  1]\n",
      "  [ 4 10  3 10  0]\n",
      "  [ 2  1 10  9  1]\n",
      "  [ 8  7  2  6  1]]\n",
      "\n",
      " [[ 1  0  8  1  6]\n",
      "  [ 4  6  1  5  3]\n",
      "  [ 7  4  2  1  2]\n",
      "  [ 8  4  8  4  0]]]\n"
     ]
    }
   ],
   "source": [
    "import numpy as np\n",
    "arr = np.random.randint(0, 11,(3, 4, 5))\n",
    "print(arr)"
   ]
  },
  {
   "cell_type": "markdown",
   "id": "5c26a057",
   "metadata": {},
   "source": [
    "# 5.Make an array of table of 10 using arange function and shuffle it."
   ]
  },
  {
   "cell_type": "code",
   "execution_count": 20,
   "id": "58ea01ea",
   "metadata": {},
   "outputs": [
    {
     "name": "stdout",
     "output_type": "stream",
     "text": [
      "Table of 10 before shuffling:\n",
      "[ 10  20  30  40  50  60  70  80  90 100]\n",
      "\n",
      "Table of 10 after shuffling:\n",
      "[100  60  70  90  20  10  40  80  30  50]\n"
     ]
    }
   ],
   "source": [
    "import numpy as np\n",
    "table_of_10 = np.arange(1, 11) * 10\n",
    "\n",
    "print(\"Table of 10 before shuffling:\")\n",
    "print(table_of_10)\n",
    "\n",
    "np.random.shuffle(table_of_10)\n",
    "\n",
    "print(\"\\nTable of 10 after shuffling:\")\n",
    "print(table_of_10)"
   ]
  },
  {
   "cell_type": "markdown",
   "id": "6d65e413",
   "metadata": {},
   "source": [
    "# 6. Create a 2D array and find its dimension, shape,size,datatype,and itemsize."
   ]
  },
  {
   "cell_type": "code",
   "execution_count": 21,
   "id": "5a0067ab",
   "metadata": {},
   "outputs": [
    {
     "name": "stdout",
     "output_type": "stream",
     "text": [
      "Dimension: 2\n",
      "Shape: (3, 3)\n",
      "Size: 9\n",
      "Data type: int32\n",
      "Item size: 4\n"
     ]
    }
   ],
   "source": [
    "import numpy as np\n",
    "arr= np.array([[1, 2, 3],[4, 5, 6],[7, 8, 9]])\n",
    "\n",
    "dimension = arr.ndim\n",
    "\n",
    "shape = arr.shape\n",
    "\n",
    "size = arr.size\n",
    "\n",
    "dtype = arr.dtype\n",
    "\n",
    "itemsize = arr.itemsize\n",
    "\n",
    "print(\"Dimension:\", dimension)\n",
    "print(\"Shape:\", shape)\n",
    "print(\"Size:\", size)\n",
    "print(\"Data type:\", dtype)\n",
    "print(\"Item size:\", itemsize)"
   ]
  },
  {
   "cell_type": "markdown",
   "id": "64500a54",
   "metadata": {},
   "source": [
    "# 7. Write a code to demostrate the difference between view and copy."
   ]
  },
  {
   "cell_type": "code",
   "execution_count": 24,
   "id": "de6ec85d",
   "metadata": {},
   "outputs": [
    {
     "name": "stdout",
     "output_type": "stream",
     "text": [
      "Original array:\n",
      "[[100   2   3]\n",
      " [  4   5   6]]\n",
      "\n",
      "View array:\n",
      "[[100   2   3]\n",
      " [  4   5   6]]\n",
      "\n",
      "Copy array:\n",
      "[[1 2 3]\n",
      " [4 5 6]]\n"
     ]
    }
   ],
   "source": [
    "import numpy as np\n",
    "org_arr = np.array([[1, 2, 3],[4, 5, 6]])\n",
    "\n",
    "view_arr = org_arr.view()\n",
    "\n",
    "copy_arr= org_arr.copy()\n",
    "\n",
    "org_arr[0, 0] = 100\n",
    "\n",
    "print(\"Original array:\")\n",
    "print(org_arr)\n",
    "\n",
    "print(\"\\nView array:\")\n",
    "print(view_arr)\n",
    "\n",
    "print(\"\\nCopy array:\")\n",
    "print(copy_arr)"
   ]
  },
  {
   "cell_type": "markdown",
   "id": "a051d49d",
   "metadata": {},
   "source": [
    "# 8.Create this 2D array and fetch 59 out of this [[10,20,30,40,],[7,8,9,10],[10,50,60,6]]."
   ]
  },
  {
   "cell_type": "code",
   "execution_count": 25,
   "id": "34caaa53",
   "metadata": {},
   "outputs": [
    {
     "name": "stdout",
     "output_type": "stream",
     "text": [
      "Answer: 50\n"
     ]
    }
   ],
   "source": [
    "import numpy as np\n",
    "arr= np.array([[10, 20, 30, 40],[7, 8, 9, 10],[10, 50, 60, 6]])\n",
    "value = arr[2, 1]\n",
    "print(\"Answer:\", value)"
   ]
  },
  {
   "cell_type": "code",
   "execution_count": null,
   "id": "e74e86da",
   "metadata": {},
   "outputs": [],
   "source": []
  }
 ],
 "metadata": {
  "kernelspec": {
   "display_name": "Python 3 (ipykernel)",
   "language": "python",
   "name": "python3"
  },
  "language_info": {
   "codemirror_mode": {
    "name": "ipython",
    "version": 3
   },
   "file_extension": ".py",
   "mimetype": "text/x-python",
   "name": "python",
   "nbconvert_exporter": "python",
   "pygments_lexer": "ipython3",
   "version": "3.11.5"
  }
 },
 "nbformat": 4,
 "nbformat_minor": 5
}

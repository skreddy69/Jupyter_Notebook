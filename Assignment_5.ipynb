{
 "cells": [
  {
   "cell_type": "markdown",
   "id": "fb7fce21",
   "metadata": {},
   "source": [
    "# 1.Find dot product of 2 vectors using dot. a=i+2j-k,b=2i-k."
   ]
  },
  {
   "cell_type": "code",
   "execution_count": 1,
   "id": "dad0a7f2",
   "metadata": {},
   "outputs": [
    {
     "name": "stdout",
     "output_type": "stream",
     "text": [
      "3\n"
     ]
    }
   ],
   "source": [
    "import numpy as np\n",
    "a = np.array([1, 2, -1])\n",
    "b = np.array([2, 0, -1])\n",
    "\n",
    "arr= np.dot(a, b)\n",
    "print(arr)"
   ]
  },
  {
   "cell_type": "markdown",
   "id": "fb45e119",
   "metadata": {},
   "source": [
    "# 2.Use vectorization factor to add two array of size 3x4."
   ]
  },
  {
   "cell_type": "code",
   "execution_count": 6,
   "id": "b7dafb76",
   "metadata": {},
   "outputs": [
    {
     "name": "stdout",
     "output_type": "stream",
     "text": [
      "[[ 1  2  3  4]\n",
      " [ 5  6  7  8]\n",
      " [ 9 10 11 12]]\n",
      "[[13 14 15 16]\n",
      " [17 18 19 20]\n",
      " [21 22 23 24]]\n",
      "[[14 16 18 20]\n",
      " [22 24 26 28]\n",
      " [30 32 34 36]]\n"
     ]
    }
   ],
   "source": [
    "import numpy as np\n",
    "arr = np.array([[1, 2, 3, 4],[5, 6, 7, 8],[9, 10, 11, 12]])\n",
    "\n",
    "arr1 = np.array([[13, 14, 15, 16],[17, 18, 19, 20],[21, 22, 23, 24]])\n",
    "\n",
    "arr2 = arr + arr1\n",
    "\n",
    "print(arr)\n",
    "print(arr1)\n",
    "print(arr2)"
   ]
  },
  {
   "cell_type": "markdown",
   "id": "40d0ff68",
   "metadata": {},
   "source": [
    "# 3.Use vectorization to divide a 3D array by 5."
   ]
  },
  {
   "cell_type": "code",
   "execution_count": 14,
   "id": "386e862e",
   "metadata": {},
   "outputs": [
    {
     "name": "stdout",
     "output_type": "stream",
     "text": [
      "[[[ 1  2  3  4]\n",
      "  [ 5  6  7  8]\n",
      "  [ 9 10 11 12]]\n",
      "\n",
      " [[13 14 15 16]\n",
      "  [17 18 19 20]\n",
      "  [21 22 23 24]]]\n",
      "\n",
      "[[[0.2 0.4 0.6 0.8]\n",
      "  [1.  1.2 1.4 1.6]\n",
      "  [1.8 2.  2.2 2.4]]\n",
      "\n",
      " [[2.6 2.8 3.  3.2]\n",
      "  [3.4 3.6 3.8 4. ]\n",
      "  [4.2 4.4 4.6 4.8]]]\n"
     ]
    }
   ],
   "source": [
    "import numpy as np\n",
    "arr = np.arange(1, 25).reshape(2, 3, 4)\n",
    "result = arr/ 5\n",
    "\n",
    "print(arr)\n",
    "print()\n",
    "print(result)"
   ]
  },
  {
   "cell_type": "markdown",
   "id": "80536c45",
   "metadata": {},
   "source": [
    "# 4.WAP to input array and find min element."
   ]
  },
  {
   "cell_type": "code",
   "execution_count": 12,
   "id": "24159f2f",
   "metadata": {},
   "outputs": [
    {
     "name": "stdout",
     "output_type": "stream",
     "text": [
      "Enter the array elements:5 8 9 7 2 4 1\n",
      "Minimum element: 1\n"
     ]
    }
   ],
   "source": [
    "import numpy as np\n",
    "arr_str = input(\"Enter the array elements:\")\n",
    "arr = np.array(list(map(int, arr_str.split())))\n",
    "min_element = np.min(arr)\n",
    "\n",
    "print(\"Minimum element:\", min_element)"
   ]
  },
  {
   "cell_type": "markdown",
   "id": "386ad56d",
   "metadata": {},
   "source": [
    "# 5.find cross product of following vector.(a)=3i-4j+2k,(b)=i-2j"
   ]
  },
  {
   "cell_type": "code",
   "execution_count": 15,
   "id": "1c4a3164",
   "metadata": {},
   "outputs": [
    {
     "name": "stdout",
     "output_type": "stream",
     "text": [
      "[ 4  2 -2]\n"
     ]
    }
   ],
   "source": [
    "import numpy as np\n",
    "a = np.array([3, -4, 2])\n",
    "b = np.array([1, -2, 0])\n",
    "c = np.cross(a, b)\n",
    "\n",
    "print(c)"
   ]
  },
  {
   "cell_type": "markdown",
   "id": "1006300c",
   "metadata": {},
   "source": [
    "# 6.find cross product of following vector.(a)=2i-3j-3k,(b)=4i-2j+k."
   ]
  },
  {
   "cell_type": "code",
   "execution_count": 16,
   "id": "afbd48df",
   "metadata": {},
   "outputs": [
    {
     "name": "stdout",
     "output_type": "stream",
     "text": [
      "[ 3 10  8]\n"
     ]
    }
   ],
   "source": [
    "import numpy as np\n",
    "a = np.array([2, -3, 3])\n",
    "b = np.array([4, -2, 1])\n",
    "c = np.cross(a, b)\n",
    "\n",
    "print(c)"
   ]
  },
  {
   "cell_type": "code",
   "execution_count": null,
   "id": "b98cbfa6",
   "metadata": {},
   "outputs": [],
   "source": []
  }
 ],
 "metadata": {
  "kernelspec": {
   "display_name": "Python 3 (ipykernel)",
   "language": "python",
   "name": "python3"
  },
  "language_info": {
   "codemirror_mode": {
    "name": "ipython",
    "version": 3
   },
   "file_extension": ".py",
   "mimetype": "text/x-python",
   "name": "python",
   "nbconvert_exporter": "python",
   "pygments_lexer": "ipython3",
   "version": "3.11.5"
  }
 },
 "nbformat": 4,
 "nbformat_minor": 5
}

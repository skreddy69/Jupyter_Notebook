{
 "cells": [
  {
   "cell_type": "markdown",
   "id": "aa84ad92",
   "metadata": {},
   "source": [
    "# 1.Guess out of a+b. (a)=np.array([[10],[20],[30]]) (b)=([1,2,3])"
   ]
  },
  {
   "cell_type": "code",
   "execution_count": 1,
   "id": "697643e3",
   "metadata": {},
   "outputs": [
    {
     "name": "stdout",
     "output_type": "stream",
     "text": [
      "[[11]\n",
      " [22]\n",
      " [33]]\n"
     ]
    }
   ],
   "source": [
    "import numpy as np\n",
    "\n",
    "a = np.array([[10], [20], [30]])\n",
    "b = np.array([[1], [2], [3]])\n",
    "c = a + b\n",
    "\n",
    "print(c)"
   ]
  },
  {
   "cell_type": "markdown",
   "id": "a6be5e41",
   "metadata": {},
   "source": [
    "# 2.Guess out of a%b. (a)= np.array([[10,20], [30,40], [50,60]]) (b)= np.array([5])"
   ]
  },
  {
   "cell_type": "code",
   "execution_count": 2,
   "id": "513eeb21",
   "metadata": {},
   "outputs": [
    {
     "name": "stdout",
     "output_type": "stream",
     "text": [
      "[[0 0]\n",
      " [0 0]\n",
      " [0 0]]\n"
     ]
    }
   ],
   "source": [
    "import numpy as np\n",
    "a = np.array([[10, 20], [30, 40], [50, 60]])\n",
    "b = np.array([5])\n",
    "c = a % b\n",
    "\n",
    "print(c)"
   ]
  },
  {
   "cell_type": "markdown",
   "id": "2480e1c1",
   "metadata": {},
   "source": [
    "# 3.Guess output of a*b.(a)= np.array([[10,20,30], [40,50,60]) (b)= np.array([5,10])"
   ]
  },
  {
   "cell_type": "code",
   "execution_count": 13,
   "id": "223f69bb",
   "metadata": {},
   "outputs": [
    {
     "name": "stdout",
     "output_type": "stream",
     "text": [
      "[[100 200 300]\n",
      " [400 500 600]]\n"
     ]
    }
   ],
   "source": [
    "import numpy as np\n",
    "a = np.array([[10, 20, 30], [40, 50, 60]])\n",
    "b = np.array([10])\n",
    "c = a*b\n",
    "\n",
    "print(c)"
   ]
  },
  {
   "cell_type": "markdown",
   "id": "eba827f6",
   "metadata": {},
   "source": [
    "# 4.Create table of 5 using arange and convert it into 5x2 array using reshape."
   ]
  },
  {
   "cell_type": "code",
   "execution_count": 20,
   "id": "feb31896",
   "metadata": {},
   "outputs": [
    {
     "name": "stdout",
     "output_type": "stream",
     "text": [
      "[ 5 10 15 20 25 30 35 40 45 50]\n",
      "\n",
      "[[ 5 10]\n",
      " [15 20]\n",
      " [25 30]\n",
      " [35 40]\n",
      " [45 50]]\n"
     ]
    }
   ],
   "source": [
    "import numpy as np\n",
    "a = np.arange(5, 51, 5)\n",
    "b = a.reshape(5, 2)\n",
    "\n",
    "print(a)\n",
    "print()\n",
    "print(b)"
   ]
  },
  {
   "cell_type": "markdown",
   "id": "04872c60",
   "metadata": {},
   "source": [
    "# 5. Resize an array of number 1 to 12 into 5x6 array.number must get repeated."
   ]
  },
  {
   "cell_type": "code",
   "execution_count": 21,
   "id": "6ec1a54d",
   "metadata": {},
   "outputs": [
    {
     "name": "stdout",
     "output_type": "stream",
     "text": [
      "[ 1  2  3  4  5  6  7  8  9 10 11 12]\n",
      "\n",
      "[[ 1  2  3  4  5  6]\n",
      " [ 7  8  9 10 11 12]\n",
      " [ 1  2  3  4  5  6]\n",
      " [ 7  8  9 10 11 12]\n",
      " [ 1  2  3  4  5  6]]\n"
     ]
    }
   ],
   "source": [
    "import numpy as np\n",
    "a = np.arange(1, 13)\n",
    "b= np.resize(a, (5, 6))\n",
    "\n",
    "print(a)\n",
    "print()\n",
    "print(b)"
   ]
  },
  {
   "cell_type": "markdown",
   "id": "7e7a4cac",
   "metadata": {},
   "source": [
    "# 6. Resize a 1D array of table 7 into 4x5 array.Extra place contain must be 0."
   ]
  },
  {
   "cell_type": "code",
   "execution_count": 23,
   "id": "2be3527d",
   "metadata": {},
   "outputs": [
    {
     "name": "stdout",
     "output_type": "stream",
     "text": [
      "[[ 7 14 21 28 35]\n",
      " [42 49 56 63 70]\n",
      " [ 0  0  0  0  0]\n",
      " [ 0  0  0  0  0]]\n"
     ]
    }
   ],
   "source": [
    "import numpy as np\n",
    "a=np.arange(7,71,7)\n",
    "b=np.resize(a(4,5))\n",
    "\n",
    "print(a)"
   ]
  },
  {
   "cell_type": "code",
   "execution_count": null,
   "id": "cd582d0c",
   "metadata": {},
   "outputs": [],
   "source": []
  }
 ],
 "metadata": {
  "kernelspec": {
   "display_name": "Python 3 (ipykernel)",
   "language": "python",
   "name": "python3"
  },
  "language_info": {
   "codemirror_mode": {
    "name": "ipython",
    "version": 3
   },
   "file_extension": ".py",
   "mimetype": "text/x-python",
   "name": "python",
   "nbconvert_exporter": "python",
   "pygments_lexer": "ipython3",
   "version": "3.11.5"
  }
 },
 "nbformat": 4,
 "nbformat_minor": 5
}
